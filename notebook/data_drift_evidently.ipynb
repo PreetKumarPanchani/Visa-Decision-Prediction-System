{
 "cells": [
  {
   "cell_type": "markdown",
   "metadata": {},
   "source": [
    "#### Import Libraries "
   ]
  },
  {
   "cell_type": "code",
   "execution_count": null,
   "metadata": {},
   "outputs": [],
   "source": [
    "import pandas as pd\n",
    "from evidently.dashboard import Dashboard\n",
    "from evidently.tabs import DataDriftTab, CatTargetDriftTab\n",
    "from evidently.model_profile import Profile\n",
    "from evidently.profile_sections import DataDriftProfileSection"
   ]
  },
  {
   "cell_type": "markdown",
   "metadata": {},
   "source": [
    "#### Load CSV File"
   ]
  },
  {
   "cell_type": "code",
   "execution_count": null,
   "metadata": {},
   "outputs": [],
   "source": [
    "data_url = \"https://raw.githubusercontent.com/selva86/datasets/master/BostonHousing.csv\"\n",
    "boston_frame = pd.read_csv(data_url)\n",
    "boston_frame.head()"
   ]
  },
  {
   "cell_type": "code",
   "execution_count": null,
   "metadata": {},
   "outputs": [],
   "source": [
    "boston_frame.shape"
   ]
  },
  {
   "cell_type": "code",
   "execution_count": null,
   "metadata": {},
   "outputs": [],
   "source": [
    "boston_frame.info()"
   ]
  },
  {
   "cell_type": "markdown",
   "metadata": {},
   "source": [
    "#### Data Drift Dashboard"
   ]
  },
  {
   "cell_type": "markdown",
   "metadata": {},
   "source": [
    "Data drift occurs when the statistical properties of your features change over time.\n",
    "\n",
    "For example, if you trained a model on housing prices from 2020, but the market conditions in 2023 are very different, your model might perform poorly"
   ]
  },
  {
   "cell_type": "code",
   "execution_count": null,
   "metadata": {},
   "outputs": [],
   "source": [
    "train_data  = boston_frame[:200]\n",
    "test_data = boston_frame[200:]\n",
    "\n",
    "boston_data_drift_dashboard = Dashboard(tabs=[DataDriftTab()])\n",
    "boston_data_drift_dashboard.calculate(train_data , test_data )\n",
    "boston_data_drift_dashboard.show()\n"
   ]
  },
  {
   "cell_type": "markdown",
   "metadata": {},
   "source": [
    "Dashboard creates an interactive visualization: \n",
    "\n",
    "1. Compare distributions between training and test data\n",
    "2. Identify which features/columns have CHANGED SIGNIFICANTLY\n",
    "3. Visualize the magnitude and nature of changes"
   ]
  },
  {
   "cell_type": "code",
   "execution_count": null,
   "metadata": {},
   "outputs": [],
   "source": [
    "boston_data_drift_dashboard.save(\"boston_data_drift_report.html\")"
   ]
  },
  {
   "cell_type": "markdown",
   "metadata": {},
   "source": [
    "#### Data Drift Profile"
   ]
  },
  {
   "cell_type": "markdown",
   "metadata": {},
   "source": [
    "Profile generates a detailed STATISTICAL REPORT containing:\n",
    "\n",
    "1. \"Statistical tests\" for drift detection\n",
    "2. \"How much Feature has CHANGED\" in QUANTITATIVE METRICS\n",
    "3. JSON format makes it easy to integrate into monitoring systems"
   ]
  },
  {
   "cell_type": "code",
   "execution_count": null,
   "metadata": {},
   "outputs": [],
   "source": [
    "boston_data_drift_profile = Profile(sections=[DataDriftProfileSection()])\n",
    "boston_data_drift_profile.calculate(boston_frame[:200], boston_frame[200:])\n",
    "boston_data_drift_profile.json()\n"
   ]
  }
 ],
 "metadata": {
  "kernelspec": {
   "display_name": "textS",
   "language": "python",
   "name": "python3"
  },
  "language_info": {
   "name": "python",
   "version": "3.8.20"
  }
 },
 "nbformat": 4,
 "nbformat_minor": 2
}
